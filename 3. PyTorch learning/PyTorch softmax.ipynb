{
 "cells": [
  {
   "cell_type": "markdown",
   "metadata": {},
   "source": [
    "### Softmax\n",
    "\n",
    "Pytoch softmax from tutorial https://www.youtube.com/watch?v=7q7E91pHoW4"
   ]
  },
  {
   "cell_type": "code",
   "execution_count": 16,
   "metadata": {},
   "outputs": [
    {
     "name": "stdout",
     "output_type": "stream",
     "text": [
      "tensor([0.6590, 0.2424, 0.0986])\n",
      "0.6590011715888977\n",
      "3\n"
     ]
    }
   ],
   "source": [
    "import torch\n",
    "import numpy as nm\n",
    "\n",
    "x = torch.tensor([2.0, 1.0, 0.1])\n",
    "outputs = torch.softmax(x, dim = 0)\n",
    "print(outputs.data)\n",
    "\n",
    "#way to retrieve raw value from tensor\n",
    "print(outputs.data[0].item())\n",
    "\n",
    "#tensor column dim\n",
    "print(outputs.size()[0])"
   ]
  },
  {
   "cell_type": "markdown",
   "metadata": {},
   "source": [
    "### Cross-Entropy handwritten\n",
    "Cross-entropy is always used to measure loss for values after softmax(!)"
   ]
  },
  {
   "cell_type": "code",
   "execution_count": 27,
   "metadata": {},
   "outputs": [
    {
     "name": "stdout",
     "output_type": "stream",
     "text": [
      "y class: \n",
      "tensor([1, 0, 0])\n",
      "y pred: \n",
      "tensor([0.7000, 0.2000, 0.1000])\n",
      "-0.3333333333333333\n",
      "-0.35667496096863105\n",
      "0.11889165365621035\n",
      "____\n",
      "0.35667494393873245\n"
     ]
    }
   ],
   "source": [
    "def crossEntropy(y, y_pred):\n",
    "    num = (-1) / y_pred.size()[0]\n",
    "    print(num)\n",
    "    sum = 0\n",
    "    for i in range(3):\n",
    "        sum += y.data[i].item() * nm.log(y_pred.data[i].item())\n",
    "    print(sum)\n",
    "    print(num * sum)\n",
    "    return num * sum\n",
    "\n",
    "def crossEntropy_NM(y, y_pred):\n",
    "    loss = -nm.sum(y * (nm.log(y_pred)))\n",
    "    return loss\n",
    "\n",
    "y = torch.tensor([1, 0, 0])\n",
    "outputs = torch.tensor([0.7, 0.2, 0.1])\n",
    "\n",
    "print(\"y class: \")\n",
    "print(y.data)\n",
    "print(\"y pred: \")\n",
    "print(outputs.data)\n",
    "resCE = crossEntropy(y, outputs.data)\n",
    "\n",
    "y1 = nm.array([1, 0, 0])\n",
    "y_pred1 = nm.array([0.7, 0.2, 0.1])\n",
    "\n",
    "print(\"____\")\n",
    "print(crossEntropy_NM(y1, y_pred1))"
   ]
  },
  {
   "cell_type": "markdown",
   "metadata": {},
   "source": [
    "### PyTorch CrossEntropy (predicting one class)\n",
    "\n",
    "После вариантов, написанных вручную, попробуем воспользоваться встроенными возможностями PyTorch для рассчета cross-entropy."
   ]
  },
  {
   "cell_type": "code",
   "execution_count": 4,
   "metadata": {},
   "outputs": [
    {
     "name": "stdout",
     "output_type": "stream",
     "text": [
      "Checking y_pred1 and y_pred2...\n",
      "Let's calculate which one of them closer to 1 class!\n",
      "----\n",
      "Loss for y_pred1 and 1 class: \n",
      "tensor(0.5514)\n",
      "tensor([2.])\n",
      "Loss for y_pred2 and 1 class: \n",
      "tensor(2.1698)\n",
      "tensor([1])\n",
      "\n",
      "Checking y_pred1 and y_pred2...\n",
      "Let's calculate which one of them closer to 2 class!\n",
      "----\n",
      "tensor(1.5514)\n",
      "tensor([0])\n",
      "tensor(0.1698)\n",
      "tensor([1])\n"
     ]
    }
   ],
   "source": [
    "import torch\n",
    "\n",
    "loss = torch.nn.CrossEntropyLoss()\n",
    "\n",
    "#1 class \n",
    "y1 = torch.tensor([0])\n",
    "\n",
    "#2 class\n",
    "y2 = torch.tensor([1])\n",
    "\n",
    "#nsamples x nclasses = 1x3\n",
    "\n",
    "#correct for 1 class\n",
    "y_pred1 = torch.tensor([[2.0, 1.0, 1.0]])\n",
    "\n",
    "#correct for 2 class\n",
    "y_pred2 = torch.tensor([[2.0, 4.0, 1.0]])\n",
    "\n",
    "print(\"Checking y_pred1 and y_pred2...\")\n",
    "print(\"Let's calculate which one of them closer to 1 class!\")\n",
    "print(\"----\")\n",
    "print(\"Loss for y_pred1 and 1 class: \")\n",
    "loss11 = loss(y_pred1, y1)\n",
    "_, max11 = torch.max(y_pred1, 1)\n",
    "print(loss11)\n",
    "print(max11)\n",
    "print(\"Loss for y_pred2 and 1 class: \")\n",
    "loss12 = loss(y_pred2, y1)\n",
    "_, max12 = torch.max(y_pred2, 1)\n",
    "print(loss12)\n",
    "print(max12)\n",
    "print()\n",
    "print(\"Checking y_pred1 and y_pred2...\")\n",
    "print(\"Let's calculate which one of them closer to 2 class!\")\n",
    "print(\"----\")\n",
    "\n",
    "loss21 = loss(y_pred1, y2)\n",
    "_, max21 = torch.max(y_pred1, 1)\n",
    "print(loss21)\n",
    "print(max21)\n",
    "loss22 = loss(y_pred2, y2)\n",
    "_, max22 = torch.max(y_pred2, 1)\n",
    "print(loss22)\n",
    "print(max22)"
   ]
  },
  {
   "cell_type": "markdown",
   "metadata": {},
   "source": [
    "### PyTorch for cross-entropy (predicting batch)"
   ]
  },
  {
   "cell_type": "code",
   "execution_count": 47,
   "metadata": {},
   "outputs": [
    {
     "name": "stdout",
     "output_type": "stream",
     "text": [
      "tensor(0.3446)\n",
      "tensor(1.8021)\n",
      "Check which one loss is closer to 0 - that's better result!\n"
     ]
    }
   ],
   "source": [
    "loss = torch.nn.CrossEntropyLoss()\n",
    "\n",
    "\n",
    "y = torch.tensor([2, 0, 1])\n",
    "#nsamples x nclasses = 3x3\n",
    "\n",
    "y_pred_good = torch.tensor([[0.1, 1.0, 3.0], [1.0, 0.3, 0.3], [2.0, 4.0, 1.0]])\n",
    "y_pred_bad = torch.tensor([[1.1, 0.9, 3.0], [0.1, 3.3, 0.3], [2.0, 0.6, 1.0]])\n",
    "\n",
    "loss_good = loss(y_pred_good, y)\n",
    "print(loss_good)\n",
    "loss_bad = loss(y_pred_bad, y)\n",
    "print(loss_bad)\n",
    "print(\"Check which one loss is closer to 0 - that's better result!\")"
   ]
  },
  {
   "cell_type": "code",
   "execution_count": null,
   "metadata": {},
   "outputs": [],
   "source": []
  }
 ],
 "metadata": {
  "kernelspec": {
   "display_name": "Python 3",
   "language": "python",
   "name": "python3"
  },
  "language_info": {
   "codemirror_mode": {
    "name": "ipython",
    "version": 3
   },
   "file_extension": ".py",
   "mimetype": "text/x-python",
   "name": "python",
   "nbconvert_exporter": "python",
   "pygments_lexer": "ipython3",
   "version": "3.7.6"
  }
 },
 "nbformat": 4,
 "nbformat_minor": 4
}
